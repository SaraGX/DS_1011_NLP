{
 "cells": [
  {
   "cell_type": "code",
   "execution_count": 17,
   "metadata": {},
   "outputs": [],
   "source": [
    "import re\n",
    "import random\n",
    "import os\n",
    "import numpy as np\n",
    "from collections import Counter\n",
    "from sklearn.feature_extraction import stop_words\n",
    "from nltk import ngrams\n",
    "import pickle as pkl"
   ]
  },
  {
   "cell_type": "code",
   "execution_count": 18,
   "metadata": {},
   "outputs": [],
   "source": [
    "imdb_home = 'aclImdb'\n",
    "\n",
    "def load_imdb_data(path):\n",
    "    \n",
    "    pos_data, neg_data = [], []\n",
    "    all_files = []\n",
    "    #_limit = 250\n",
    "    \n",
    "    for dirpath, dirnames, files in os.walk(path):\n",
    "        for name in files:\n",
    "            all_files.append(os.path.join(dirpath, name))\n",
    "            \n",
    "            \n",
    "    for file_path in all_files:\n",
    "        if '/neg' in file_path:\n",
    "            example = {}\n",
    "            with open(file_path, 'r') as myfile:\n",
    "                example['text'] = myfile.read().replace('\\n', '')\n",
    "            example['label'] = 0\n",
    "            example['path'] = file_path\n",
    "\n",
    "            neg_data.append(example)\n",
    "            \n",
    "        if '/pos' in file_path:\n",
    "            example = {}\n",
    "            with open(file_path, 'r') as myfile:\n",
    "                example['text'] = myfile.read().replace('\\n', '')\n",
    "            example['label'] = 1\n",
    "            example['path'] = file_path\n",
    "            \n",
    "            pos_data.append(example)\n",
    "    return neg_data, pos_data\n"
   ]
  },
  {
   "cell_type": "code",
   "execution_count": 19,
   "metadata": {},
   "outputs": [],
   "source": [
    "imdb_train_neg, imdb_train_pos = load_imdb_data(imdb_home+'/train/')\n",
    "imdb_test_neg, imdb_test_pos = load_imdb_data(imdb_home+'/test/')"
   ]
  },
  {
   "cell_type": "code",
   "execution_count": 20,
   "metadata": {},
   "outputs": [
    {
     "data": {
      "text/plain": [
       "(12500, 12500)"
      ]
     },
     "execution_count": 20,
     "metadata": {},
     "output_type": "execute_result"
    }
   ],
   "source": [
    "len(imdb_train_neg), len(imdb_train_pos)"
   ]
  },
  {
   "cell_type": "code",
   "execution_count": 21,
   "metadata": {},
   "outputs": [],
   "source": [
    "#split the train dataset into 20,000 train examples and 5,000 validation example\n",
    "train_split = 10000\n",
    "train_text = [imdb_train_neg[i]['text'] for i in range(train_split)]+[imdb_train_pos[i]['text'] for i in range(train_split)]\n",
    "train_label = [imdb_train_neg[i]['label'] for i in range(train_split)]+[imdb_train_pos[i]['label'] for i in range(train_split)]\n",
    "\n",
    "val_text = [i['text'] for i in imdb_train_neg[train_split:]]+ [i['text'] for i in imdb_train_pos[train_split:]]\n",
    "val_label = [i['label'] for i in imdb_train_neg[train_split:]]+[i['label'] for i in imdb_train_pos[train_split:]]\n",
    "\n",
    "test_text = [imdb_test_neg[i]['text'] for i in range(len(imdb_test_neg))]+[imdb_test_pos[i]['text'] for i in range(len(imdb_test_pos))]\n",
    "test_label = [imdb_test_neg[i]['label'] for i in range(len(imdb_test_neg))]+[imdb_test_pos[i]['label'] for i in range(len(imdb_test_pos))]"
   ]
  },
  {
   "cell_type": "code",
   "execution_count": 22,
   "metadata": {},
   "outputs": [],
   "source": [
    "pkl.dump(val_text, open('val_text.p' , \"wb\"))\n",
    "pkl.dump(val_label, open('val_label.p' , \"wb\"))\n"
   ]
  },
  {
   "cell_type": "code",
   "execution_count": 90,
   "metadata": {},
   "outputs": [
    {
     "data": {
      "text/plain": [
       "(2500, 5000)"
      ]
     },
     "execution_count": 90,
     "metadata": {},
     "output_type": "execute_result"
    }
   ],
   "source": [
    "sum(val_label), len(val_label)"
   ]
  },
  {
   "cell_type": "code",
   "execution_count": 138,
   "metadata": {},
   "outputs": [],
   "source": [
    "import spacy\n",
    "import string\n",
    "\n",
    "tokenizer = spacy.load('en_core_web_sm')\n",
    "punctuations = string.punctuation\n",
    "\n",
    "\n",
    "def ngram_dataset(dataset, n):\n",
    "\n",
    "    token_dataset = []\n",
    "    all_tokens = []\n",
    "    for sample in tokenizer.pipe(dataset, disable=['parser', 'tagger', 'ner'], batch_size=512, n_threads=4):\n",
    "        text = [token.text.lower() for token in sample if (token.text not in punctuations)]\n",
    "        tokens = [' '.join(token) for token in ngrams(text, n)]\n",
    "        token_dataset.append(tokens)\n",
    "        all_tokens += tokens\n",
    "\n",
    "    return token_dataset, all_tokens\n"
   ]
  },
  {
   "cell_type": "code",
   "execution_count": 14,
   "metadata": {},
   "outputs": [
    {
     "name": "stdout",
     "output_type": "stream",
     "text": [
      "n gram: 1\n",
      "Tokenizing train data\n",
      "Tokenizing val data\n",
      "Tokenizing test data\n",
      "===========================================================\n",
      "n gram: 2\n",
      "Tokenizing train data\n",
      "Tokenizing val data\n",
      "Tokenizing test data\n",
      "===========================================================\n",
      "n gram: 3\n",
      "Tokenizing train data\n",
      "Tokenizing val data\n",
      "Tokenizing test data\n",
      "===========================================================\n",
      "n gram: 4\n",
      "Tokenizing train data\n",
      "Tokenizing val data\n",
      "Tokenizing test data\n",
      "===========================================================\n"
     ]
    }
   ],
   "source": [
    "import pickle as pkl\n",
    "for n_gram in [1, 2, 3, 4]:   \n",
    "    train_tokens, all_train_tokens = ngram_dataset(train_text, n_gram)\n",
    "    val_tokens, _ = ngram_dataset(val_text, n_gram)\n",
    "    test_tokens, _= ngram_dataset(test_text, n_gram)\n",
    "    print('n gram:', n_gram)\n",
    "    print (\"Tokenizing train data\")\n",
    "    pkl.dump(train_tokens, open('tokens/train_set_tokens_%s_gram.p' % n_gram, \"wb\"))\n",
    "    pkl.dump(all_train_tokens, open('tokens/all_train_tokens_%s_gram.p' % n_gram, \"wb\"))   \n",
    "    print (\"Tokenizing val data\")\n",
    "    pkl.dump(val_tokens, open('tokens/val_set_tokens_%s_gram.p' % n_gram, \"wb\"))\n",
    "    print (\"Tokenizing test data\")\n",
    "    pkl.dump(test_tokens, open('tokens/test_set_tokens_%s_gram.p' % n_gram, \"wb\"))\n",
    "    print('===========================================================')"
   ]
  },
  {
   "cell_type": "code",
   "execution_count": 85,
   "metadata": {},
   "outputs": [],
   "source": [
    "pkl.dump(train_label, open('tokens/train_labels.p', \"wb\"))\n",
    "pkl.dump(val_label, open('tokens/val_labels.p', \"wb\"))\n",
    "pkl.dump(test_label, open('tokens/test_labels.p', \"wb\"))"
   ]
  },
  {
   "cell_type": "markdown",
   "metadata": {},
   "source": [
    "incorporate i<n n_gram into n_gram dataset "
   ]
  },
  {
   "cell_type": "code",
   "execution_count": 16,
   "metadata": {},
   "outputs": [
    {
     "name": "stdout",
     "output_type": "stream",
     "text": [
      "dealing with 2_gram dataset\n",
      "load dataset\n",
      "merge train tokens\n",
      "merge all train tokens\n",
      "merge val tokens\n",
      "merge test tokens\n",
      "===========================================================\n",
      "dealing with 3_gram dataset\n",
      "load dataset\n",
      "merge train tokens\n",
      "merge all train tokens\n",
      "merge val tokens\n",
      "merge test tokens\n",
      "===========================================================\n",
      "dealing with 4_gram dataset\n",
      "load dataset\n",
      "merge train tokens\n",
      "merge all train tokens\n",
      "merge val tokens\n",
      "merge test tokens\n",
      "===========================================================\n"
     ]
    }
   ],
   "source": [
    "for i in range(2, 5):\n",
    "    print('dealing with %s_gram dataset'%i)\n",
    "    print('load dataset')\n",
    "    current_train_tokens =  pkl.load(open('tokens/train_set_tokens_%s_gram.p' % i, \"rb\"))\n",
    "    before_train_tokens =  pkl.load(open('tokens/train_set_tokens_%s_gram.p' % str(i-1), \"rb\"))\n",
    "    current_all_train_tokens = pkl.load(open('tokens/all_train_tokens_%s_gram.p' % i, \"rb\"))\n",
    "    before_all_train_tokens = pkl.load(open('tokens/all_train_tokens_%s_gram.p' % str(i-1), \"rb\"))\n",
    "    current_val_tokens = pkl.load(open('tokens/val_set_tokens_%s_gram.p' % i, \"rb\"))\n",
    "    before_val_tokens = pkl.load(open('tokens/val_set_tokens_%s_gram.p' % str(i-1), \"rb\"))\n",
    "    current_test_tokens= pkl.load(open('tokens/test_set_tokens_%s_gram.p' % i, \"rb\"))\n",
    "    before_test_tokens = pkl.load(open('tokens/test_set_tokens_%s_gram.p' % str(i-1), \"rb\"))\n",
    "    print('merge train tokens')\n",
    "    new_train_tokens = [before_train_tokens[i] + current_train_tokens[i] for i in range(len(current_train_tokens))]\n",
    "    print('merge all train tokens')\n",
    "    new_all_train_tokens= before_all_train_tokens + current_all_train_tokens\n",
    "    print('merge val tokens')\n",
    "    new_val_tokens = [before_val_tokens[i] + current_val_tokens[i] for i in range(len(current_val_tokens))]\n",
    "    print('merge test tokens')\n",
    "    new_test_tokens = [before_test_tokens[i] + current_test_tokens[i] for i in range(len(current_test_tokens))]\n",
    "        \n",
    "    pkl.dump(new_train_tokens, open('tokens/train_set_tokens_%s_gram.p' % i, \"wb\"))\n",
    "    pkl.dump(new_all_train_tokens, open('tokens/all_train_tokens_%s_gram.p' % i, \"wb\"))  \n",
    "    pkl.dump(new_val_tokens, open('tokens/val_set_tokens_%s_gram.p' % i, \"wb\"))\n",
    "    pkl.dump(new_test_tokens, open('tokens/test_set_tokens_%s_gram.p' % i, \"wb\"))\n",
    "    print('===========================================================')"
   ]
  },
  {
   "cell_type": "code",
   "execution_count": null,
   "metadata": {},
   "outputs": [],
   "source": []
  }
 ],
 "metadata": {
  "kernelspec": {
   "display_name": "Python 3",
   "language": "python",
   "name": "python3"
  },
  "language_info": {
   "codemirror_mode": {
    "name": "ipython",
    "version": 3
   },
   "file_extension": ".py",
   "mimetype": "text/x-python",
   "name": "python",
   "nbconvert_exporter": "python",
   "pygments_lexer": "ipython3",
   "version": "3.6.4"
  }
 },
 "nbformat": 4,
 "nbformat_minor": 2
}
