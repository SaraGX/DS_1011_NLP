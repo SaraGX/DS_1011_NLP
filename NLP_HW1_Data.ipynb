{
 "cells": [
  {
   "cell_type": "code",
   "execution_count": 7,
   "metadata": {},
   "outputs": [],
   "source": [
    "import re\n",
    "import random\n",
    "import os\n",
    "import numpy as np\n",
    "from collections import Counter\n",
    "from sklearn.feature_extraction import stop_words\n",
    "from nltk import ngrams"
   ]
  },
  {
   "cell_type": "code",
   "execution_count": 8,
   "metadata": {},
   "outputs": [],
   "source": [
    "imdb_home = 'aclImdb'\n",
    "\n",
    "def load_imdb_data(path):\n",
    "    \n",
    "    pos_data, neg_data = [], []\n",
    "    all_files = []\n",
    "    #_limit = 250\n",
    "    \n",
    "    for dirpath, dirnames, files in os.walk(path):\n",
    "        for name in files:\n",
    "            all_files.append(os.path.join(dirpath, name))\n",
    "            \n",
    "            \n",
    "    for file_path in all_files:\n",
    "        if '/neg' in file_path:\n",
    "            example = {}\n",
    "            with open(file_path, 'r') as myfile:\n",
    "                example['text'] = myfile.read().replace('\\n', '')\n",
    "            example['label'] = 0\n",
    "            neg_data.append(example)\n",
    "            \n",
    "        if '/pos' in file_path:\n",
    "            example = {}\n",
    "            with open(file_path, 'r') as myfile:\n",
    "                example['text'] = myfile.read().replace('\\n', '')\n",
    "            example['label'] = 1\n",
    "            pos_data.append(example)\n",
    "    data = neg_data + pos_data\n",
    "    return data\n"
   ]
  },
  {
   "cell_type": "code",
   "execution_count": 9,
   "metadata": {},
   "outputs": [],
   "source": [
    "imdb_train = load_imdb_data(imdb_home+'/train/')\n",
    "imdb_test = load_imdb_data(imdb_home+'/test/')\n"
   ]
  },
  {
   "cell_type": "code",
   "execution_count": 10,
   "metadata": {},
   "outputs": [],
   "source": [
    "#split the train dataset into 20,000 train examples and 5,000 validation example\n",
    "train_split = 20000\n",
    "train_text = [imdb_train[i]['text'] for i in range(train_split)]\n",
    "train_label = [imdb_train[i]['label'] for i in range(train_split)]\n",
    "\n",
    "val_text = [i['text'] for i in imdb_train[train_split:]]\n",
    "val_label = [i['label'] for i in imdb_train[train_split:]]\n",
    "\n",
    "test_text = [imdb_test[i]['text'] for i in range(len(imdb_test))]\n",
    "test_label = [imdb_test[i]['label'] for i in range(len(imdb_test))]"
   ]
  },
  {
   "cell_type": "code",
   "execution_count": 11,
   "metadata": {},
   "outputs": [],
   "source": [
    "import spacy\n",
    "import string\n",
    "\n",
    "tokenizer = spacy.load('en_core_web_sm')\n",
    "punctuations = string.punctuation\n",
    "\n",
    "\n",
    "def ngram_dataset(dataset, n):\n",
    "\n",
    "    token_dataset = []\n",
    "    all_tokens = []\n",
    "\n",
    "    for sample in tokenizer.pipe(dataset, disable=['parser', 'tagger', 'ner'], batch_size=512, n_threads=4):\n",
    "        text = [token.text.lower() for token in sample if (token.text not in punctuations)]\n",
    "        tokens = [token for token in ngrams(text, n)]\n",
    "        token_dataset.append(tokens)\n",
    "        all_tokens += tokens\n",
    "\n",
    "    return token_dataset, all_tokens\n"
   ]
  },
  {
   "cell_type": "code",
   "execution_count": 15,
   "metadata": {},
   "outputs": [
    {
     "name": "stdout",
     "output_type": "stream",
     "text": [
      "n gram: 1\n",
      "Tokenizing train data\n",
      "Tokenizing val data\n",
      "Tokenizing test data\n",
      "===========================================================\n",
      "n gram: 2\n",
      "Tokenizing train data\n",
      "Tokenizing val data\n",
      "Tokenizing test data\n",
      "===========================================================\n",
      "n gram: 3\n",
      "Tokenizing train data\n",
      "Tokenizing val data\n",
      "Tokenizing test data\n",
      "===========================================================\n",
      "n gram: 4\n",
      "Tokenizing train data\n",
      "Tokenizing val data\n",
      "Tokenizing test data\n",
      "===========================================================\n"
     ]
    }
   ],
   "source": [
    "import pickle as pkl\n",
    "for n_gram in [1, 2, 3, 4]:   \n",
    "    train_tokens, all_train_tokens = ngram_dataset(train_text, n_gram)\n",
    "    val_tokens, _ = ngram_dataset(val_text, n_gram)\n",
    "    test_tokens, _= ngram_dataset(test_text, n_gram)\n",
    "    print('n gram:', n_gram)\n",
    "    print (\"Tokenizing train data\")\n",
    "    pkl.dump(train_tokens, open('tokens/train_set_tokens_%s_gram.p' % n_gram, \"wb\"))\n",
    "    pkl.dump(all_train_tokens, open('tokens/all_train_tokens_%s_gram.p' % n_gram, \"wb\"))   \n",
    "    print (\"Tokenizing val data\")\n",
    "    pkl.dump(val_tokens, open('tokens/val_set_tokens_%s_gram.p' % n_gram, \"wb\"))\n",
    "    print (\"Tokenizing test data\")\n",
    "    pkl.dump(test_tokens, open('tokens/test_set_tokens_%s_gram.p' % n_gram, \"wb\"))\n",
    "    print('===========================================================')"
   ]
  },
  {
   "cell_type": "code",
   "execution_count": null,
   "metadata": {},
   "outputs": [],
   "source": [
    "pkl.dump(train_label, open('tokens/train_labels.p', \"wb\"))\n",
    "pkl.dump(val_label, open('tokens/val_labels.p', \"wb\"))\n",
    "pkl.dump(test_label, open('tokens/test_label.p', \"wb\"))"
   ]
  }
 ],
 "metadata": {
  "kernelspec": {
   "display_name": "Python 3",
   "language": "python",
   "name": "python3"
  },
  "language_info": {
   "codemirror_mode": {
    "name": "ipython",
    "version": 3
   },
   "file_extension": ".py",
   "mimetype": "text/x-python",
   "name": "python",
   "nbconvert_exporter": "python",
   "pygments_lexer": "ipython3",
   "version": "3.6.4"
  }
 },
 "nbformat": 4,
 "nbformat_minor": 2
}
